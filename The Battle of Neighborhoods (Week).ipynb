{
    "cells": [
        {
            "cell_type": "markdown",
            "metadata": {
                "collapsed": true
            },
            "source": "# Capstone Project - The Battle of Neighborhoods (Week 1)"
        },
        {
            "cell_type": "markdown",
            "metadata": {},
            "source": "I study and learn in the IBM Data Science Professional Certificate from Coursera which consists of 10 sub-courses and this is the final course for a final project called the Capstone project.\nThis project is using skill and tools for discussing the problem and finding data to resolve the problem.\n"
        },
        {
            "cell_type": "markdown",
            "metadata": {},
            "source": "#  Problem and Discussion of introduction"
        },
        {
            "cell_type": "markdown",
            "metadata": {},
            "source": "Leeds is a British city with a financial, commercial economy and a lot of tourists. Many people come for business, study, and travel. Sometimes, worker or tourist have free time or rest they want to go peaceful place in the leeds city or may need a place to wait for a meeting that is comfortable and easy to accessed or can call co-working space. But, It has limited hours using or It have no desk or chair for working because Its many large people come in.\nSo, It think should be surveyed location for extending or establish space for large people, student, worker includes traveler.\n"
        },
        {
            "cell_type": "markdown",
            "metadata": {},
            "source": "## Data Selection"
        },
        {
            "cell_type": "markdown",
            "metadata": {},
            "source": "This project uses data from the Foursquare API to find latitude and longitude for place office building, department store and university location for the establishment of co-working spaces in the neighborhood. Finding common venues in each neighborhood and cluster the neighborhoods for establishment using k-mean clustering.\n\nSo I'll using data in Leeds following;\n- Office building\n- Department store\n- University\n- Latitude/ Longtitude\n\n"
        },
        {
            "cell_type": "code",
            "execution_count": null,
            "metadata": {},
            "outputs": [],
            "source": ""
        },
        {
            "cell_type": "code",
            "execution_count": null,
            "metadata": {},
            "outputs": [],
            "source": ""
        }
    ],
    "metadata": {
        "kernelspec": {
            "display_name": "Python 3.7",
            "language": "python",
            "name": "python3"
        },
        "language_info": {
            "codemirror_mode": {
                "name": "ipython",
                "version": 3
            },
            "file_extension": ".py",
            "mimetype": "text/x-python",
            "name": "python",
            "nbconvert_exporter": "python",
            "pygments_lexer": "ipython3",
            "version": "3.7.10"
        }
    },
    "nbformat": 4,
    "nbformat_minor": 1
}